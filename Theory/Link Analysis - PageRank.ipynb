{
 "cells": [
  {
   "cell_type": "markdown",
   "metadata": {},
   "source": [
    "# Link Analysis\n",
    "Link analysis is a data analysis technique used in network theory that is used to evaluate the relationships or connections between network nodes. These relationships can be between various types of objects (nodes), including people, organizations and even transactions.\n",
    "\n",
    "Link analysis is essentially a kind of knowledge discovery that can be used to visualize data to allow for better analysis, especially in the context of links, whether Web links or relationship links between people or between different entities. Link analysis is often used in search engine optimization as well as in intelligence, in security analysis and in market and medical research.\n",
    "\n",
    "For what concerns Web Search, different approaches have been studied previously to Web Links Analysis:\n",
    "\n",
    "1. Human curated **Web directories** [Yahoo, DMOZ, LookSmart] - rapidly abandoned due to huge number of pages and links, impossible to mantain manually\n",
    "2. **Web Search**: **information retrieval** attempts to find relevant docs in a small and trusted set (newspaper articles, patents, etc.) but there is a need for a good way to rank webpages.\n",
    "\n",
    "Web Search has its own challenges: the definition of a **trustworthy** page, and the **best answer to a query**. Moreover, web pages are not equally important, in terms of references: they can be represented by the web graph link structure, which can be used to rank the pages.\n",
    "\n",
    "![webgraph](../images/webgraph.png)\n",
    "\n",
    "## Hubs and Authorities\n",
    "\n",
    "TBA\n",
    "\n",
    "## PageRank\n",
    "\n",
    "The PageRank algorithm is based on the concept of **links as votes**: a page is more important if it has more links. However, it could be either in-links or out-links. \n",
    "\n",
    "Let's consider in-links. If an \"important\" page references (links to) another page, that link should weight more, proportionally to the importance of the source page. So some definitions can be derived from this:\n",
    "\n",
    "> If a page *i* with importance *r<sub>i</sub>* has *d<sub>i</sub>* out-links, each link gets *r<sub>i</sub>*/*d<sub>i</sub>* votes.\n",
    "\n",
    "> Page *j*'s importance *r<sub>j</sub>* is the sum of the votes on its in-links.\n",
    "\n",
    "![pagerank.jpg](../images/pagerank.jpg)\n",
    "\n",
    "Therefore, a page is important **if it is pointed to by other important pages**. From the in-links, it is possible to define a **rank r<sub>j</sub>** for node *j* as such:\n",
    "\n",
    "![pr_model_rank.png](../images/pr_model_rank.png)\n",
    "\n",
    "Let page *j* have *d<sub>j</sub>* out-links. We can build a **column stochastic matrix M[i\\*j]** (AKA a matrix where the columns sum to 1) based on the rule that if there is a link **j --> i**, then **M<sub>ij</sub>=1/d<sub>j</sub>**.\n",
    "\n",
    "![pr_stoc_adj.png](../images/pr_stoc_adj.png)\n",
    "\n"
   ]
  }
 ],
 "metadata": {
  "kernelspec": {
   "display_name": "Python 3",
   "language": "python",
   "name": "python3"
  },
  "language_info": {
   "codemirror_mode": {
    "name": "ipython",
    "version": 3
   },
   "file_extension": ".py",
   "mimetype": "text/x-python",
   "name": "python",
   "nbconvert_exporter": "python",
   "pygments_lexer": "ipython3",
   "version": "3.6.2"
  },
  "name": "Link Analysis - PageRank",
  "notebookId": 3550562029882700
 },
 "nbformat": 4,
 "nbformat_minor": 1
}
