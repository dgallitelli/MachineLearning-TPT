{
 "cells": [
  {
   "cell_type": "markdown",
   "metadata": {},
   "source": [
    "# Pattern Mining\n",
    "\n",
    "Pattern mining consists of using/developing data mining algorithms to discover *interesting*,  unexpected and useful *patterns* in databases.\n",
    "\n",
    "Pattern mining algorithms can be applied on various types of data such as transaction databases, sequence databases, streams, strings, spatial data, graphs,  etc. These algorithms can be designed to discover various types of patterns:  subgraphs, associations, indirect associations, trends, periodic patterns, sequential rules, lattices, sequential patterns, high-utility patterns, etc. \n",
    "\n",
    "There are different definition for *interesting pattern*, from **frequent patterns** to **high confidence patterns**. We will focus on the first ones."
   ]
  },
  {
   "cell_type": "markdown",
   "metadata": {},
   "source": [
    "### Frequent patterns\n",
    "\n",
    "Suppose having *D* as a dataset of patterns (a series of transactions *t* for example), and *min_sup* is a constant (minimum support).\n",
    "\n",
    "THe **support** *support(t)* is the number of patterns in *D* that are superpatterns of *t*. A pattern *t* is **frequent** if **support(t) >= min_sup**.\n",
    "\n",
    "![pattern_mining_ex1.png](../images/pattern_mining_ex1.png)\n",
    "\n",
    "Let's suppose having the dataset of transaction on the left in the image. Finding the support of the patterns in this dataset means looking for every combination of letters and count the number of appearances of said combination. On the right in the cicture, only frequent patterns are reported, which means only those appearing three or more times.\n",
    "\n",
    "Usually, there are too many frequent patterns. We can compute a smaller set, while keeping the same information.  We can use **closed** frequent patterns: \n",
    "\n",
    "> A frequent pattern *t* is **closed** if none of its superpatterns have the same support as it has. Frequent subpatterns and their supports can be generated from closed patterns.\n",
    "\n",
    "The definition of closed frequent patterns is based on the **A priori property**:\n",
    "\n",
    "> If *t'* is a subpattern of *t*, then *Support(t')>=Support(t)*\n",
    "\n",
    "![pattern_mining_ex2.png](../images/pattern_mining_ex2.png)\n",
    "\n",
    "It is possible to go one step further, and define **maximal frequent pattern**.\n",
    "\n",
    "> A frequent pattern t is maximal if none of its proper superpatterns is frequent. Frequent subpatterns can be generated from maximal patterns, but not with their support.\n",
    "\n",
    "![pattern_mining_ex3.png](../images/pattern_mining_ex3.png)\n",
    "\n",
    "### Algorithms\n",
    "\n",
    "The algorithms which solve the frequent itemset mining problem can be grouped into two categories, *breadth-first (levelwise)*, like **Apriori** algorithm, and *depth-first*, like **Eclat** or **FP-Growth** algorithms.\n",
    "\n",
    "#### Apriori\n",
    "![apriori](../images/apriori.png)\n",
    "#### Eclat\n",
    "![eclat](../images/eclat.png)\n",
    "#### FP-Growth\n",
    "![fpgrowth](../images/fpgrowth.png)"
   ]
  },
  {
   "cell_type": "markdown",
   "metadata": {},
   "source": [
    "# Mining graph data\n",
    "\n",
    "A similar kind of problem is that of **graph mining**: given a dataset *D* of graphs, find the frequent graphs.\n",
    "\n",
    "![gspan](../images/gspan.png)"
   ]
  },
  {
   "cell_type": "code",
   "execution_count": null,
   "metadata": {
    "collapsed": true
   },
   "outputs": [],
   "source": []
  }
 ],
 "metadata": {
  "kernelspec": {
   "display_name": "Python 3",
   "language": "python",
   "name": "python3"
  },
  "language_info": {
   "codemirror_mode": {
    "name": "ipython",
    "version": 3
   },
   "file_extension": ".py",
   "mimetype": "text/x-python",
   "name": "python",
   "nbconvert_exporter": "python",
   "pygments_lexer": "ipython3",
   "version": "3.6.2"
  }
 },
 "nbformat": 4,
 "nbformat_minor": 2
}
