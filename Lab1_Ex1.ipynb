{
 "cells": [
  {
   "cell_type": "code",
   "execution_count": 11,
   "metadata": {},
   "outputs": [],
   "source": [
    "# Import the necessary classes\n",
    "import numpy as np\n",
    "from sklearn import datasets\n",
    "\n",
    "# Load and parse the data file\n",
    "iris = datasets.load_iris()\n",
    "iris_X = iris.data\n",
    "iris_Y = iris.target\n",
    "np.unique(iris_Y)\n",
    "\n",
    "# Split iris data in train and test data\n",
    "# A random permutation, to split the data randomly\n",
    "np.random.seed ( 0 )\n",
    "indices = np.random.permutation(len(iris_X))\n",
    "# Take some elements from the shuffled array\n",
    "iris_X_train = iris_X[indices[:-10]]\n",
    "iris_Y_train = iris_Y[indices[:-10]]\n",
    "iris_X_test = iris_X[indices[-10:]]\n",
    "iris_Y_test = iris_Y[indices[-10:]]"
   ]
  },
  {
   "cell_type": "markdown",
   "metadata": {},
   "source": [
    "## Question 1 - Compute Error.\n",
    "E = 1 - accuracy\n",
    "WIth the default k value of 5, the error is:"
   ]
  },
  {
   "cell_type": "code",
   "execution_count": 83,
   "metadata": {},
   "outputs": [
    {
     "data": {
      "text/plain": [
       "0.90000000000000002"
      ]
     },
     "execution_count": 83,
     "metadata": {},
     "output_type": "execute_result"
    }
   ],
   "source": [
    "from sklearn.neighbors import KNeighborsClassifier\n",
    "knn = KNeighborsClassifier()\n",
    "knn.fit(iris_X_train, iris_Y_train)\n",
    "\n",
    "from sklearn.metrics import accuracy_score\n",
    "iris_prediction = knn.predict(iris_X_train)\n",
    "iris_prediction\n",
    "iris_Y_test\n",
    "accuracy_score(iris_Y_test, knn.predict(iris_X_test))"
   ]
  },
  {
   "cell_type": "markdown",
   "metadata": {},
   "source": [
    "## Question 2 - Accuracy scores with different k\n",
    "A few different values for k have been tried.\n",
    "\n",
    "| K Value   | Accuracy |\n",
    "|:---------:|:----------:|\n",
    "|1->7|0.90000000000000002|\n",
    "|8->12|1.0|\n",
    "|13->15|0.90000000000000002|\n",
    "|16->92|1.0|\n",
    "|93->136|0.80000000000000004|\n",
    "|137-138|0.59999999999999998|\n",
    "|139-140|0.20000000000000001|\n"
   ]
  },
  {
   "cell_type": "code",
   "execution_count": null,
   "metadata": {
    "collapsed": true
   },
   "outputs": [],
   "source": []
  }
 ],
 "metadata": {
  "kernelspec": {
   "display_name": "Python 3",
   "language": "python",
   "name": "python3"
  },
  "language_info": {
   "codemirror_mode": {
    "name": "ipython",
    "version": 3
   },
   "file_extension": ".py",
   "mimetype": "text/x-python",
   "name": "python",
   "nbconvert_exporter": "python",
   "pygments_lexer": "ipython3",
   "version": "3.6.2"
  }
 },
 "nbformat": 4,
 "nbformat_minor": 2
}
