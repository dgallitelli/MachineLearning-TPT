{
 "cells": [
  {
   "cell_type": "markdown",
   "metadata": {},
   "source": [
    "# Machine Learning and Data Mining - Lab 2 - Davide Gallitelli"
   ]
  },
  {
   "cell_type": "markdown",
   "metadata": {},
   "source": [
    "## Task 1 - Build a majority class classifier"
   ]
  },
  {
   "cell_type": "code",
   "execution_count": 1,
   "metadata": {
    "collapsed": true
   },
   "outputs": [],
   "source": [
    "import numpy as np\n",
    "from sklearn.base import BaseEstimator, ClassifierMixin\n",
    "from sklearn.utils.validation import check_X_y, check_array, check_is_fitted\n",
    "from sklearn.utils.multiclass import unique_labels\n",
    "\n",
    "class MajorityClassifier(BaseEstimator, ClassifierMixin):\n",
    "    \n",
    "    # define initialization\n",
    "    def __init__(self):\n",
    "        # code\n",
    "        print (\"init Classifier\")\n",
    "    \n",
    "    # Fitting function\n",
    "    def fit (self, X, y):\n",
    "        # Check that X and y have correct shape\n",
    "        X, y = check_X_y(X, y)\n",
    "        # Use unique_labels to return an ordered array of the labels found\n",
    "        self.classes_ = unique_labels(y)\n",
    "        self.X_ = X\n",
    "        self.y_ = y\n",
    "        self.majVote_ = np.bincount(self.y_).argmax()\n",
    "        # Return the classifier\n",
    "        return self\n",
    "    \n",
    "    # Prediction function\n",
    "    def predict (self, X):\n",
    "\n",
    "        # Check is fit had been called\n",
    "        check_is_fitted(self, ['X_', 'y_'])\n",
    "\n",
    "        # Input validation\n",
    "        X = check_array(X)\n",
    "        \n",
    "        # Predict according to majority class\n",
    "        return np.asarray([self.majVote_ for _ in X])"
   ]
  },
  {
   "cell_type": "markdown",
   "metadata": {},
   "source": [
    "## Task 2 - Test the majority vote classifier and justify the evaluation result"
   ]
  },
  {
   "cell_type": "code",
   "execution_count": 2,
   "metadata": {},
   "outputs": [
    {
     "data": {
      "text/plain": [
       "array([1, 1, 1, 1, 0, 0, 0, 1, 1, 1])"
      ]
     },
     "execution_count": 2,
     "metadata": {},
     "output_type": "execute_result"
    }
   ],
   "source": [
    "# Import the necessary classes\n",
    "import numpy as np\n",
    "from sklearn import datasets\n",
    "\n",
    "# Load and parse the data file\n",
    "bc = datasets.load_breast_cancer()\n",
    "bc_X = bc.data\n",
    "bc_Y = bc.target\n",
    "np.unique(bc_Y)\n",
    "\n",
    "# Split bc data in train and test data\n",
    "# A random permutation, to split the data randomly\n",
    "np.random.seed ( 0 )\n",
    "indices = np.random.permutation(len(bc_X))\n",
    "# Take some elements from the shuffled array\n",
    "bc_X_train = bc_X[indices[:-10]]\n",
    "bc_Y_train = bc_Y[indices[:-10]]\n",
    "bc_X_test = bc_X[indices[-10:]]\n",
    "bc_Y_test = bc_Y[indices[-10:]]\n",
    "\n",
    "bc_Y_test"
   ]
  },
  {
   "cell_type": "code",
   "execution_count": 3,
   "metadata": {},
   "outputs": [
    {
     "name": "stdout",
     "output_type": "stream",
     "text": [
      "init Classifier\n"
     ]
    },
    {
     "data": {
      "text/plain": [
       "array([1, 1, 1, 1, 1, 1, 1, 1, 1, 1])"
      ]
     },
     "execution_count": 3,
     "metadata": {},
     "output_type": "execute_result"
    }
   ],
   "source": [
    "# test using the previously defined majority vote classifier\n",
    "mjclass = MajorityClassifier()\n",
    "mjclass.fit(bc_X_train, bc_Y_train)\n",
    "prediction = mjclass.predict(bc_X_test)\n",
    "prediction"
   ]
  },
  {
   "cell_type": "code",
   "execution_count": 4,
   "metadata": {},
   "outputs": [
    {
     "data": {
      "text/plain": [
       "0.69999999999999996"
      ]
     },
     "execution_count": 4,
     "metadata": {},
     "output_type": "execute_result"
    }
   ],
   "source": [
    "# Evaluate score of this classifier\n",
    "from sklearn.metrics import accuracy_score\n",
    "\n",
    "accuracy_score(bc_Y_test, prediction)"
   ]
  },
  {
   "cell_type": "markdown",
   "metadata": {},
   "source": [
    "As the majority of the labels are '1', the majority vote classifier will predict always a '1' label. \n",
    "In this example, it will predict correctly almost 70% of the time, therefore having an error around 30%."
   ]
  },
  {
   "cell_type": "markdown",
   "metadata": {},
   "source": [
    "## Task 3 - A better classifier"
   ]
  },
  {
   "cell_type": "code",
   "execution_count": 5,
   "metadata": {
    "collapsed": true
   },
   "outputs": [],
   "source": [
    "from sklearn.metrics import euclidean_distances\n",
    "\n",
    "class MyClassifier(BaseEstimator, ClassifierMixin):\n",
    "    def __init__(self):\n",
    "        return\n",
    "    def fit(self, X, y):\n",
    "        X, y = check_X_y(X, y) #check validity of input\n",
    "        self.X_ = X\n",
    "        self.y_ = y\n",
    "        self.classes_ = unique_labels(y)\n",
    "        return self\n",
    "    def predict(self, X):\n",
    "        check_is_fitted(self, ['X_', 'y_']) #check if fit has been called\n",
    "        # Look for the closest point\n",
    "        X = check_array(X) #check input validity\n",
    "        closest = np.argmin(euclidean_distances(X,self.X_),axis=1)\n",
    "        return self.y_[closest]"
   ]
  },
  {
   "cell_type": "code",
   "execution_count": 6,
   "metadata": {},
   "outputs": [
    {
     "data": {
      "text/plain": [
       "array([1, 1, 1, 1, 0, 0, 0, 1, 1, 1])"
      ]
     },
     "execution_count": 6,
     "metadata": {},
     "output_type": "execute_result"
    }
   ],
   "source": [
    "# classify with the newly defined MyClassifier\n",
    "myclass = MyClassifier()\n",
    "myclass.fit(bc_X_train, bc_Y_train)\n",
    "myprediction = myclass.predict(bc_X_test)\n",
    "myprediction"
   ]
  },
  {
   "cell_type": "code",
   "execution_count": 7,
   "metadata": {},
   "outputs": [
    {
     "data": {
      "text/plain": [
       "1.0"
      ]
     },
     "execution_count": 7,
     "metadata": {},
     "output_type": "execute_result"
    }
   ],
   "source": [
    "# check accuracy score\n",
    "accuracy_score(bc_Y_test, myprediction)"
   ]
  }
 ],
 "metadata": {
  "kernelspec": {
   "display_name": "Python 3",
   "language": "python",
   "name": "python3"
  },
  "language_info": {
   "codemirror_mode": {
    "name": "ipython",
    "version": 3
   },
   "file_extension": ".py",
   "mimetype": "text/x-python",
   "name": "python",
   "nbconvert_exporter": "python",
   "pygments_lexer": "ipython3",
   "version": "3.6.2"
  }
 },
 "nbformat": 4,
 "nbformat_minor": 2
}
